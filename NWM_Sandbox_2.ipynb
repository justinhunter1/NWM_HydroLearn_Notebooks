{
 "cells": [
  {
   "cell_type": "markdown",
   "metadata": {},
   "source": [
    "## Welcome to the National Water Model (NWM) Sandbox 2! \n",
    "\n",
    "<strong><em>Created by <a href=\"https://www.linkedin.com/in/justin-hunter-0b86871a6/\" target=\"_blank\">Justin Hunter</a>, <a href=\"https://www.linkedin.com/in/danames/\" target=\"_blank\">Dr. Dan Ames</a>, and <a href=\"https://www.linkedin.com/in/easton-perkins-02968a156/\" target=\"_blank\">Easton Perkins</a>.</em></strong><br>\n",
    "<em><strong>June, 2021. Brigham Young University. Provo, Utah.\n",
    "<a href=\"hydroinformatics.byu.edu\" target=\"_blank\">BYU Hydroinformatics Lab</a>.</em></strong>"
   ]
  },
  {
   "cell_type": "markdown",
   "metadata": {},
   "source": [
    "In this Jupyter Notebook we will take a look at  a NetCDF (Network Common Data Form) file obtained from the NWM using a Python package called xarray. NetCDF files are a standardized way of exchanging scientific data. NetCDF is well suited for multidimensional datasets containing meteorological or observational data. NetCDF files work well for NWM forecasts and contain a lot of useful metadata. xarray is a Python package which is built on NumPy and pandas and works well with NetCDF. We will also explore more ways to visualize the national water model and display its reaches on a map. "
   ]
  },
  {
   "cell_type": "markdown",
   "metadata": {},
   "source": [
    "<em><h4>Imports</h4></em>"
   ]
  },
  {
   "cell_type": "markdown",
   "metadata": {},
   "source": [
    "The next cell installs or imports some Python modules or packages that will be used in this notebook. A brief explanation of what each one does is included below:\n",
    "* xarray makes it easier to work with multidimensional datasets like the NWM forecasts. \n",
    "* Importing the date type from the datetime module allows us to call todays date. \n",
    "* The os module allows us to communicate with the operating system. \n",
    "* pandas is a useful library for data manipulation and analysis.\n",
    "* ipywidgets will be used to select a forecast type from a dropdown menu later on.\n",
    "* The requests module lets us make requests to web pages. \n",
    "* matplotlib will help us create plots.\n",
    "* ipyleaflet is a package for creating interactive maps in Python."
   ]
  },
  {
   "cell_type": "code",
   "execution_count": null,
   "metadata": {},
   "outputs": [],
   "source": [
    "import xarray as xr\n",
    "import numpy as np\n",
    "from datetime import date\n",
    "import os\n",
    "import pandas as pd\n",
    "import ipywidgets as widgets\n",
    "\n",
    "import requests\n",
    "from requests import Request\n",
    "\n",
    "import matplotlib.pyplot as plt\n",
    "%matplotlib inline\n",
    "\n",
    "import ipyleaflet\n",
    "from ipyleaflet import Map, WMSLayer, basemaps, LayersControl, DrawControl, Popup, Marker"
   ]
  },
  {
   "cell_type": "markdown",
   "metadata": {},
   "source": [
    "<em><h4>Functions</em></h4>"
   ]
  },
  {
   "cell_type": "markdown",
   "metadata": {},
   "source": [
    "This next cell should look familiar! It defines the functions that were used in the first sandbox. These functions build the appropriate url for a NWM forecast, get the NetCDF file stored at that url, and then build a time series of data for a given reach or stream."
   ]
  },
  {
   "cell_type": "code",
   "execution_count": null,
   "metadata": {},
   "outputs": [],
   "source": [
    "def GetForecastFileName(ForecastStartDate = '20210321', ForecastStartTimestep='00', ForecastType = 'short_range', ForecastMember='1', TimeStep = '001'):\n",
    "  BaseName = 'https://nomads.ncep.noaa.gov/pub/data/nccf/com/nwm/prod/nwm.'\n",
    "\n",
    "  ForecastStartDate\n",
    "\n",
    "  if (ForecastType == 'short_range'):\n",
    "    return BaseName + ForecastStartDate + '/short_range/nwm.t' + ForecastStartTimestep +'z.short_range.channel_rt.f' + TimeStep + '.conus.nc'\n",
    "  elif (ForecastType == 'medium_range'): \n",
    "    return BaseName + ForecastStartDate + '/medium_range_mem' + ForecastMember + '/nwm.t' + ForecastStartTimestep +'z.medium_range.channel_rt_' + ForecastMember + '.f' + TimeStep + '.conus.nc'\n",
    "  elif (ForecastType == 'long_range'):\n",
    "    return BaseName + ForecastStartDate + '/long_range_mem' + ForecastMember + '/nwm.t' + ForecastStartTimestep +'z.long_range.channel_rt_' + ForecastMember + '.f' + TimeStep + '.conus.nc'\n",
    "  else:\n",
    "    return 'error'\n",
    "\n",
    "def GetForecastFile(Url = 'https://nomads.ncep.noaa.gov/pub/data/nccf/com/nwm/prod/nwm.20210321/short_range/nwm.t00z.short_range.channel_rt.f001.conus.nc'):\n",
    "  FileName = os.path.basename(Url)\n",
    "  if os.path.exists(FileName):\n",
    "    os.remove(FileName)\n",
    "  r = requests.get(Url, allow_redirects=True)\n",
    "  open(FileName, 'wb').write(r.content)\n",
    "  return FileName\n",
    "\n",
    "def GetSeries(StreamID = 23275226, ForecastStartDate = '20210321', ForecastStartTimestep='00', ForecastType = 'short_range', ForecastMember='1'):\n",
    "  TimeSteps = []\n",
    "  TimeSteps.clear()\n",
    "  Series = []\n",
    "  Series.clear()\n",
    "  if (ForecastType=='short_range'):\n",
    "    for i in range(18):\n",
    "      TimeSteps.append(\"%03d\" % (i+1))\n",
    "  elif (ForecastType=='medium_range' and ForecastMember=='1'):\n",
    "    for i in range(80):\n",
    "      TimeSteps.append(\"%03d\" % ((i+1)*3))\n",
    "  elif (ForecastType=='medium_range' and ForecastMember!='1'):\n",
    "    for i in range (68):\n",
    "      TimeSteps.append(\"%03d\" % ((i+1)*3))\n",
    "  elif (ForecastType=='long_range'):\n",
    "    for i in range(120):\n",
    "      TimeSteps.append(\"%03d\" % ((i+1)*6))\n",
    "  else: \n",
    "    return 'Error building time steps'\n",
    "  \n",
    "  for ts in TimeSteps:\n",
    "    MyUrl = GetForecastFileName(ForecastStartDate,ForecastStartTimestep, ForecastType,ForecastMember,ts)\n",
    "    FileName = GetForecastFile(MyUrl)\n",
    "    if(FileName != 'error'):\n",
    "      data = xr.open_dataset(FileName)\n",
    "      Q = float(data.sel(feature_id=StreamID).streamflow.values)\n",
    "      Series.append(Q)\n",
    "    else:\n",
    "      print('Error getting forecast files.')\n",
    "    \n",
    "  return Series"
   ]
  },
  {
   "cell_type": "markdown",
   "metadata": {},
   "source": [
    "<em><h4>Variables</em></h4>"
   ]
  },
  {
   "cell_type": "markdown",
   "metadata": {},
   "source": [
    "Next let's define some variables that we can use to download a forecast of our choice. Then we'll get the url and download the corresponding NetCDF forecast file."
   ]
  },
  {
   "cell_type": "code",
   "execution_count": null,
   "metadata": {},
   "outputs": [],
   "source": [
    "# These variables should look familiar to you from the first sandbox\n",
    "ForecastStart = '00'\n",
    "Type = 'short_range'\n",
    "Member = '1'\n",
    "Timestep = '001'\n",
    "today = date.today()\n",
    "today = str(today)\n",
    "today = today.replace(\"-\", \"\")\n",
    "\n",
    "url = GetForecastFileName(today, ForecastStart,Type,Member,Timestep)\n",
    "path = GetForecastFile(url)"
   ]
  },
  {
   "cell_type": "markdown",
   "metadata": {},
   "source": [
    "The next cell creates a variable called 'ds' and assigns it a value of the given NetCDF file opened as an xarray dataset. That file was called in using a variable called 'path' which was defined in the previous cell. Take a look at the output of the next cell and try to learn a little bit about the metadata included with this dataset. You'll be able to see the different dataset dimensions, coordinates, variables, and attributes of the dataset."
   ]
  },
  {
   "cell_type": "markdown",
   "metadata": {},
   "source": [
    "<em><h4>xarray</em></h4>"
   ]
  },
  {
   "cell_type": "code",
   "execution_count": null,
   "metadata": {},
   "outputs": [],
   "source": [
    "ds = xr.open_dataset(path)\n",
    "ds"
   ]
  },
  {
   "cell_type": "markdown",
   "metadata": {},
   "source": [
    "xarray is great for analyzing multidimensional data such as a NWM forecast. It has great metadata support and is always the best option when working with NetCDF. For more information about xarray visit: http://xarray.pydata.org/en/stable/index.html."
   ]
  },
  {
   "cell_type": "markdown",
   "metadata": {},
   "source": [
    "<em><h4>Plot</em></h4>"
   ]
  },
  {
   "cell_type": "markdown",
   "metadata": {},
   "source": [
    "Now let's try to visualize 'ds' using matplotlib. "
   ]
  },
  {
   "cell_type": "code",
   "execution_count": null,
   "metadata": {},
   "outputs": [],
   "source": [
    "plt.rcParams['figure.figsize'] = (8,6)\n",
    "ds.streamflow.plot()"
   ]
  },
  {
   "cell_type": "markdown",
   "metadata": {},
   "source": [
    "That plot isn't great. Because each NetCDF file contains a certain forecast (short, medium, long, etc.) at a certain time for the entire NWM network (every single reach covered by the NWM), the plot is displaying Reach IDs on the x axis and streamflow on the y. This isn't very helpful. Let's try instead to create a map that will display all of the NWM reaches and let us see some of their attributes."
   ]
  },
  {
   "cell_type": "markdown",
   "metadata": {},
   "source": [
    "<em><h4>Mapping</em></h4>"
   ]
  },
  {
   "cell_type": "markdown",
   "metadata": {},
   "source": [
    "First we should define some variables that will help us create our map."
   ]
  },
  {
   "cell_type": "code",
   "execution_count": null,
   "metadata": {},
   "outputs": [],
   "source": [
    "# zoom level\n",
    "zoom = 4\n",
    "# lat and long coordinates for the center of the map\n",
    "center = (39,-96)"
   ]
  },
  {
   "cell_type": "markdown",
   "metadata": {},
   "source": [
    "Next, we need to create our map with ipyleaflet and then add a WMS layer too it. WMS (Web Map Services) allows us to pull in data that is stored somewhere on the web. In this case the data is coming from a shapefile stored in a Hydroshare resource. Hydroshare is a web based hydrologic information system for sharing and publishing hydrologic data. Here we only pull in one layer which contains the NWM reaches lying inside of Hydrologic Unit Code (HUC) number 1. The Hydroshare resource id is 'HS-f5fa9306f92147918fc500c386cf0dd9' and the shapefile is named 'HUC1'. \n",
    "\n",
    "The resource is located here: https://www.hydroshare.org/resource/f5fa9306f92147918fc500c386cf0dd9/. \n",
    "\n",
    "That particular resource only contains a few HUCs. There are 18 in total. Several Hydroshare resources make up a collection which contains all of the NWM reaches divided up by HUC. \n",
    "\n",
    "The collection can be found here: https://www.hydroshare.org/resource/c16596e525bf41e2ae843f1e3bbcef90/. "
   ]
  },
  {
   "cell_type": "code",
   "execution_count": null,
   "metadata": {},
   "outputs": [],
   "source": [
    "# Create a map called 'mappy' with a basemap, and the zoom level and center that we defined previously.\n",
    "mappy = Map(basemap=basemaps.CartoDB.Positron, center=center, zoom=zoom)"
   ]
  },
  {
   "cell_type": "code",
   "execution_count": null,
   "metadata": {},
   "outputs": [],
   "source": [
    "# Create a WMS Layer from the desired Hydroshare resource and desired layer (shapefile).\n",
    "wmslay = WMSLayer(\n",
    "    url = 'https://geoserver.hydroshare.org/geoserver/HS-f5fa9306f92147918fc500c386cf0dd9/wms?',\n",
    "    layers = 'HS-f5fa9306f92147918fc500c386cf0dd9:HUC1',\n",
    "    transparent=True,\n",
    "    name = 'HUC1',\n",
    "    format = 'image/png'\n",
    ")\n",
    "\n",
    "# Create a layers control at the top right of the map\n",
    "control = LayersControl(position='topright')\n",
    "\n",
    "# Add the layers control to 'mappy'\n",
    "mappy.add_control(control)\n",
    "\n",
    "# Add the WMS Layer to 'mappy'\n",
    "mappy.add_layer(wmslay)"
   ]
  },
  {
   "cell_type": "code",
   "execution_count": null,
   "metadata": {},
   "outputs": [],
   "source": [
    "# Show 'mappy'\n",
    "mappy"
   ]
  },
  {
   "cell_type": "markdown",
   "metadata": {},
   "source": [
    "This map shows all of the NWM reaches in HUC1, but we haven't actually done anything which would allow us to view the forecasts yet."
   ]
  },
  {
   "cell_type": "markdown",
   "metadata": {},
   "source": [
    "Next we are going to use some Jupyter notebook magic to run HTML and display a web map. What you see in the next cell is HTML code. All it really does is display the web page at https://justinhunter1.github.io/csb-yn7y5/. \n",
    "\n",
    "This web page was built using javascript to display all of the NWM reaches and their attributes. It uses a WMS layer containing all of the NWM Reaches and is built using openlayers which is a javascript library for mapping. \n",
    "\n",
    "Zooming in to a specific part of the map will prompt the reaches to appear. By clicking on a specific reach you can then obtain its objectid or unique identifier. \n",
    "\n",
    "The source code for this map and web page can be found here: https://github.com/justinhunter1/NWM_map_ForSandbox2. It consists of several files of code, but the important stuff is primarily in the main.js file. In less than 100 lines of code you could create a similar map yourself!"
   ]
  },
  {
   "cell_type": "code",
   "execution_count": null,
   "metadata": {},
   "outputs": [],
   "source": [
    "%%HTML\n",
    "<html>\n",
    "<head></head>\n",
    "<body>\n",
    "<iframe title=\"NWM Reaches\" src=\"https://justinhunter1.github.io/csb-yn7y5/\" width=900 height=600>\n",
    "</iframe>\n",
    "</body>\n",
    "</html>"
   ]
  },
  {
   "cell_type": "markdown",
   "metadata": {},
   "source": [
    "After you've had a chance to play around and obtain an object id for a stream of interest, run the next cell and enter in the object id when prompted. Make sure you are getting the value from the 'OBJECTID' cell and not the 'station_id' value."
   ]
  },
  {
   "cell_type": "code",
   "execution_count": null,
   "metadata": {},
   "outputs": [],
   "source": [
    "# Running this cell will prompt the user to enter in a value which will then be assigned to the variable 'reach'\n",
    "reach = input(\"Reach/Stream/Feature ID: \")"
   ]
  },
  {
   "cell_type": "code",
   "execution_count": null,
   "metadata": {},
   "outputs": [],
   "source": [
    "# Convert 'reach' from string type to integer type\n",
    "reach = int(reach)"
   ]
  },
  {
   "cell_type": "code",
   "execution_count": null,
   "metadata": {},
   "outputs": [],
   "source": [
    "# Here we use ipywidgets to create a menu dropdown with options for the NWM forecast types.\n",
    "menu = widgets.Dropdown(\n",
    "       options=['short_range', 'medium_range', 'long_range'],\n",
    "       value='short_range',\n",
    "       description='Forecast:')"
   ]
  },
  {
   "cell_type": "code",
   "execution_count": null,
   "metadata": {},
   "outputs": [],
   "source": [
    "# This cell will display the menu that we created in the last cell. Select your desired forecast from it.\n",
    "menu"
   ]
  },
  {
   "cell_type": "code",
   "execution_count": null,
   "metadata": {},
   "outputs": [],
   "source": [
    "# Now lets build a time series for the reach you entered and the forecast type selected from 'menu'.\n",
    "Series = GetSeries(reach, today, '00', menu.value, '1')\n",
    "print(Series)"
   ]
  },
  {
   "cell_type": "code",
   "execution_count": null,
   "metadata": {},
   "outputs": [],
   "source": [
    "# Now lets create a plot of the forecast like we did in the first sandbox.\n",
    "plt.rc('font', size=14)\n",
    "fig, ax = plt.subplots(figsize=(10, 6))\n",
    "ax.plot(Series, color='tab:blue', label='Streamflow')\n",
    "ax.set_xlabel('Time')\n",
    "ax.set_ylabel('Flowrate (cms)')\n",
    "ax.set_title(menu.value + ' for Stream ID ' + str(reach))\n",
    "ax.grid(True)"
   ]
  },
  {
   "cell_type": "code",
   "execution_count": null,
   "metadata": {},
   "outputs": [],
   "source": [
    "# Lastly we'll erase any nwm files leftover in our Jupyter notebook's file browser.\n",
    "files = [f for f in os.listdir('.') \n",
    "         if os.path.isfile(f)]\n",
    "\n",
    "for f in files:\n",
    "    # Look at every file and if contains 'nwm' then remove/delete it! \n",
    "    if \"nwm\" in f:\n",
    "        os.remove(f)"
   ]
  },
  {
   "cell_type": "markdown",
   "metadata": {},
   "source": [
    "Thank you for using this resource! Hopefully this exercise has helped open your eyes to what can be done to analyze NWM forecasts and create maps and plots of the NWM network."
   ]
  }
 ],
 "metadata": {
  "kernelspec": {
   "display_name": "Python 3",
   "language": "python",
   "name": "python3"
  },
  "language_info": {
   "codemirror_mode": {
    "name": "ipython",
    "version": 3
   },
   "file_extension": ".py",
   "mimetype": "text/x-python",
   "name": "python",
   "nbconvert_exporter": "python",
   "pygments_lexer": "ipython3",
   "version": "3.7.8"
  }
 },
 "nbformat": 4,
 "nbformat_minor": 4
}
