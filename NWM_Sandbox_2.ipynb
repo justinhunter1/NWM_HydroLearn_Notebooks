{
 "cells": [
  {
   "cell_type": "markdown",
   "metadata": {},
   "source": [
    "## Welcome to the National Water Model (NWM) Sandbox 2! \n",
    "\n",
    "<strong><em>Created by <a href=\"https://www.linkedin.com/in/justin-hunter-0b86871a6/\" target=\"_blank\">Justin Hunter</a>, <a href=\"https://www.linkedin.com/in/danames/\" target=\"_blank\">Dr. Dan Ames</a>, and <a href=\"https://www.linkedin.com/in/easton-perkins-02968a156/\" target=\"_blank\">Easton Perkins</a>.</em></strong><br>\n",
    "<em><strong>May, 2021. Brigham Young University. Provo, Utah.\n",
    "<a href=\"hydroinformatics.byu.edu\" target=\"_blank\">BYU Hydroinformatics Lab</a>.</em></strong>"
   ]
  },
  {
   "cell_type": "markdown",
   "metadata": {},
   "source": [
    "In this Jupyter Notebook we will play around with a NetCDF (Network Common Data Form) file obtained from the NWM using a Python package called xarray. NetCDF files are a standardized way of exchanging scientific data. NetCDF is well suited for multidimensional datasets containing meteorological or observational data. NetCDF files work well for NWM forecasts and contain a lot of useful metadata. xarray is a Python package which uses NumPy and pandas and works well with NetCDF. "
   ]
  },
  {
   "cell_type": "markdown",
   "metadata": {},
   "source": [
    "<em><h4>Imports</h4></em>"
   ]
  },
  {
   "cell_type": "markdown",
   "metadata": {},
   "source": [
    "The next cell installs or imports some Python modules or packages that will be used in this notebook. A brief explanation of what each one does is included below:\n",
    "* xarray makes it easier to work with multidimensional datasets like the NWM forecasts. \n",
    "* NumPy is a useful package for working with data arrays.\n",
    "* Importing the date type from the datetime module allows us to call todays date. \n",
    "* The os module allows us to communicate with the operating system. \n",
    "* The requests module lets us make requests to web pages. \n",
    "* pandas is a useful library for data manipulation and analysis.\n",
    "* Folium is going to help us create a map at the end of the notebook.\n",
    "* matplotlib will help us create plots."
   ]
  },
  {
   "cell_type": "code",
   "execution_count": null,
   "metadata": {},
   "outputs": [],
   "source": [
    "import xarray as xr\n",
    "import numpy as np\n",
    "from datetime import date\n",
    "import os\n",
    "import requests\n",
    "import pandas as pd\n",
    "# Install folium\n",
    "!pip install folium -q\n",
    "# Import folium\n",
    "import folium\n",
    "%matplotlib inline\n",
    "import matplotlib.pyplot as plt\n",
    "import geopandas as gpd\n",
    "from geopandas import GeoSeries, GeoDataFrame\n",
    "!pip install OWSLib\n",
    "from owslib.wfs import WebFeatureService\n",
    "from owslib.wms import WebMapService\n",
    "import geojson\n",
    "import ipyleaflet\n",
    "from ipyleaflet import Map, WMSLayer, basemaps, LayersControl, DrawControl, Popup, Marker\n",
    "from ipywidgets import HTML\n",
    "from requests import Request\n",
    "from folium.plugins import Draw"
   ]
  },
  {
   "cell_type": "markdown",
   "metadata": {},
   "source": [
    "<em><h4>Functions</em></h4>"
   ]
  },
  {
   "cell_type": "markdown",
   "metadata": {},
   "source": [
    "This next cell should look familiar! It uses two of the functions that were in the first sandbox. These functions build the appropriate url for a NWM forecast and then get the NetCDF file stored at that url."
   ]
  },
  {
   "cell_type": "code",
   "execution_count": null,
   "metadata": {},
   "outputs": [],
   "source": [
    "# Get todays date\n",
    "today = date.today()\n",
    "today = str(today)\n",
    "today = today.replace(\"-\", \"\")\n",
    "\n",
    "# This function gets the desired forecasts file name.\n",
    "def GetForecastFileName(ForecastStart='00', Type = 'short_range', Member='1', TimeStep = '001'):\n",
    "    \n",
    "    today = date.today()\n",
    "    today = str(today)\n",
    "    today = today.replace(\"-\", \"\")\n",
    "\n",
    "    BaseName = 'https://nomads.ncep.noaa.gov/pub/data/nccf/com/nwm/prod/nwm.'\n",
    "\n",
    "    if (Type == 'short_range'):\n",
    "        return BaseName + today + '/short_range/nwm.t' + ForecastStart +'z.short_range.channel_rt.f' + TimeStep + '.conus.nc'\n",
    "    elif (Type == 'medium_range'): \n",
    "        return BaseName + today + '/medium_range_mem' + Member + '/nwm.t' + ForecastStart +'z.medium_range.channel_rt_' + Member + '.f' + TimeStep + '.conus.nc'\n",
    "    elif (Type == 'long_range'):\n",
    "        return BaseName + today + '/long_range_mem' + Member + '/nwm.t' + ForecastStart +'z.long_range.channel_rt_' + Member + '.f' + TimeStep + '.conus.nc'\n",
    "    else:\n",
    "        return 'error'\n",
    "\n",
    "# This function gets the actual forecast file\n",
    "def GetForecastFile(Url = 'https://nomads.ncep.noaa.gov/pub/data/nccf/com/nwm/prod/nwm.20210321/short_range/nwm.t00z.short_range.channel_rt.f001.conus.nc'):\n",
    "    FileName = os.path.basename(Url)\n",
    "    if os.path.exists(FileName):\n",
    "        os.remove(FileName)\n",
    "    r = requests.get(Url, allow_redirects=True)\n",
    "    open(FileName, 'wb').write(r.content)\n",
    "    return FileName"
   ]
  },
  {
   "cell_type": "markdown",
   "metadata": {},
   "source": [
    "<em><h4>Variables</em></h4>"
   ]
  },
  {
   "cell_type": "markdown",
   "metadata": {},
   "source": [
    "Next let's define some variables that we can use to download a forecast of our choice. We get the url and then the file and store it in a variable called 'path'."
   ]
  },
  {
   "cell_type": "code",
   "execution_count": null,
   "metadata": {},
   "outputs": [],
   "source": [
    "# These variables should look familiar to you from the first sandbox\n",
    "ForecastStart = '00'\n",
    "Type = 'short_range'\n",
    "Member = '1'\n",
    "Timestep = '001'\n",
    "\n",
    "url = GetForecastFileName(ForecastStart,Type,Member,Timestep)\n",
    "path = GetForecastFile(url)"
   ]
  },
  {
   "cell_type": "markdown",
   "metadata": {},
   "source": [
    "The next cell creates a variable called 'ds' and opens our downloaded NetCDF file as an xarray dataset. You'll be able to see the different dataset dimensions, coordinates, variables, and attributes after running this cell. Look around and try to learn a little bit about the metadata included with this dataset."
   ]
  },
  {
   "cell_type": "markdown",
   "metadata": {},
   "source": [
    "<em><h4>xarray</em></h4>"
   ]
  },
  {
   "cell_type": "code",
   "execution_count": null,
   "metadata": {},
   "outputs": [],
   "source": [
    "ds = xr.open_dataset(path)\n",
    "ds"
   ]
  },
  {
   "cell_type": "markdown",
   "metadata": {},
   "source": [
    "<em><h4>Plot</em></h4>"
   ]
  },
  {
   "cell_type": "markdown",
   "metadata": {},
   "source": [
    "Now let's try to visualize this dataset using matplotlib like we've done before. "
   ]
  },
  {
   "cell_type": "code",
   "execution_count": null,
   "metadata": {},
   "outputs": [],
   "source": [
    "plt.rcParams['figure.figsize'] = (8,6)\n",
    "ds.streamflow.plot()"
   ]
  },
  {
   "cell_type": "markdown",
   "metadata": {},
   "source": [
    "That plot isn't great. Because each NetCDF file contains a certain forecast (short, medium, long, etc.) at a certain time for the entire NWM network (every single reach covered by the NWM), the plot is displaying Reach IDs on the x axis and streamflow on the y. This isn't very helpful. Let's see if we can find a better way to visualize these forecasts."
   ]
  },
  {
   "cell_type": "markdown",
   "metadata": {},
   "source": [
    "<em><h4>Map</em></h4>"
   ]
  },
  {
   "cell_type": "markdown",
   "metadata": {},
   "source": [
    "First we should define some variables to pass to folium in order to create our map."
   ]
  },
  {
   "cell_type": "code",
   "execution_count": null,
   "metadata": {},
   "outputs": [],
   "source": [
    "# zoom level\n",
    "zoom = 4\n",
    "# lat and long coordinates for the center of the map\n",
    "location = (39,-96)\n",
    "# Map frame height\n",
    "height = 500\n",
    "# points to where the river reach layers are stored\n",
    "url_stem = 'https://geoserver.hydroshare.org/geoserver/wms'\n",
    "# Name of the layer that will appear on the map\n",
    "name = 'NWM River Reaches'\n",
    "# Gives the layer an appropriate format on the map\n",
    "formt = 'image/png'\n",
    "# Makes the layer opaque so that the basemap can still be seen\n",
    "opacity = .5"
   ]
  },
  {
   "cell_type": "markdown",
   "metadata": {},
   "source": [
    "Next, we need to create our map with the folium.Map method and then add a layer to it called NWM River Reaches. That layer consists of two shapefiles which are being pulled into the map via web mapping services (wms) from a Hydroshare resource where they are published. The Hydroshare resource id is 'HS-151be7ba211f4de8abbc4a64795df682' and the two shapefiles are respectively named 'NWMReaches1' and 'NWMReaches2'."
   ]
  },
  {
   "cell_type": "code",
   "execution_count": null,
   "metadata": {},
   "outputs": [],
   "source": [
    "# Create map\n",
    "fol_map = folium.Map(location=location, zoom_start=zoom, height=height)\n",
    "\n",
    "# Create layer from wms \n",
    "layer = folium.raster_layers.WmsTileLayer(\n",
    "    url_stem,\n",
    "    name=name,\n",
    "    layers=(f'HS-151be7ba211f4de8abbc4a64795df682:NWMReaches1',f'HS-151be7ba211f4de8abbc4a64795df682:NWMReaches2'),\n",
    "    wms_format=formt,\n",
    "    transparent=True,\n",
    "    opacity=opacity\n",
    ")\n",
    "\n",
    "# Add layer to map\n",
    "layer.add_to(fol_map)"
   ]
  },
  {
   "cell_type": "markdown",
   "metadata": {},
   "source": [
    "Now we can display the map. The first line of code in the next cell also adds layer control to the map which allows us to turn the NWM River Reaches layer off and on again via a button on the map itself. Zoom controls are automatically included with the map. "
   ]
  },
  {
   "cell_type": "code",
   "execution_count": null,
   "metadata": {},
   "outputs": [],
   "source": [
    "# Add layer control\n",
    "folium.LayerControl().add_to(fol_map)\n",
    "\n",
    "# Add pop ups\n",
    "draw = Draw()\n",
    "draw.add_to(fol_map)\n",
    "\n",
    "# Display map\n",
    "display(fol_map)"
   ]
  },
  {
   "cell_type": "markdown",
   "metadata": {},
   "source": [
    "This map shows all of the NWM reaches, but we haven't actually done anything which would allow us to view the forecasts yet."
   ]
  },
  {
   "cell_type": "code",
   "execution_count": null,
   "metadata": {},
   "outputs": [],
   "source": [
    "mappy = Map(basemap=basemaps.CartoDB.Positron, center=location, zoom=zoom, close_popup_on_click=False)"
   ]
  },
  {
   "cell_type": "code",
   "execution_count": null,
   "metadata": {},
   "outputs": [],
   "source": [
    "popup = Popup()\n"
   ]
  },
  {
   "cell_type": "code",
   "execution_count": null,
   "metadata": {},
   "outputs": [],
   "source": [
    "wmslay1 = WMSLayer(\n",
    "    url = 'https://geoserver.hydroshare.org/geoserver/HS-151be7ba211f4de8abbc4a64795df682/wms',\n",
    "    layers = 'HS-151be7ba211f4de8abbc4a64795df682:NWMReaches1',\n",
    "    format = 'image/PNG',\n",
    "    transparent=True,\n",
    "    name = 'NWM Reaches 1'\n",
    ")\n",
    "\n",
    "wmslay2 = WMSLayer(\n",
    "    url = 'https://geoserver.hydroshare.org/geoserver/HS-151be7ba211f4de8abbc4a64795df682/wms',\n",
    "    layers = 'HS-151be7ba211f4de8abbc4a64795df682:NWMReaches2',\n",
    "    format = 'image/PNG',\n",
    "    transparent=True,\n",
    "    name = 'NWM Reaches 2'\n",
    ")"
   ]
  },
  {
   "cell_type": "code",
   "execution_count": null,
   "metadata": {},
   "outputs": [],
   "source": [
    "\n",
    "mappy.add_layer(wmslay1)\n",
    "mappy.add_layer(wmslay2)"
   ]
  },
  {
   "cell_type": "code",
   "execution_count": null,
   "metadata": {},
   "outputs": [],
   "source": [
    "control = LayersControl(position='topright')\n",
    "mappy.add_control(control)"
   ]
  },
  {
   "cell_type": "code",
   "execution_count": null,
   "metadata": {},
   "outputs": [],
   "source": []
  },
  {
   "cell_type": "code",
   "execution_count": null,
   "metadata": {},
   "outputs": [],
   "source": [
    "mappy"
   ]
  },
  {
   "cell_type": "code",
   "execution_count": null,
   "metadata": {},
   "outputs": [],
   "source": [
    "testurl = 'https://geoserver.hydroshare.org/geoserver/HS-57f0a9ba5bcb44ac89a8eb80d779b8ad/wfs'\n",
    "wwfs = WebFeatureService(url=testurl)\n",
    "print(wwfs.identification.title)\n",
    "\n",
    "print(wwfs.version)\n",
    "\n",
    "print([operation.name for operation in wwfs.operations])\n",
    "\n",
    "print(list(wwfs.contents))\n",
    "\n",
    "for layer, meta in wwfs.items():\n",
    "    print(meta.__dict__)"
   ]
  },
  {
   "cell_type": "code",
   "execution_count": null,
   "metadata": {},
   "outputs": [],
   "source": [
    "#layer = list(wwfs.contents)[-1]\n",
    "params1 = dict(service='WFS', version=\"1.0.0\", request='GetFeature', typename='HS-57f0a9ba5bcb44ac89a8eb80d779b8ad:NWMPart1of3', outputFormat='json')\n",
    "params2 = dict(service='WFS', version=\"1.0.0\", request='GetFeature', typename='HS-57f0a9ba5bcb44ac89a8eb80d779b8ad:NWMPart2of3', outputFormat='json')\n",
    "params3 = dict(service='WFS', version=\"1.0.0\", request='GetFeature', typename='HS-57f0a9ba5bcb44ac89a8eb80d779b8ad:NWMPart3of3', outputFormat='json')"
   ]
  },
  {
   "cell_type": "code",
   "execution_count": null,
   "metadata": {},
   "outputs": [],
   "source": [
    "q1 = Request('GET', testurl, params=params1).prepare().url\n",
    "q2 = Request('GET', testurl, params=params2).prepare().url\n",
    "q3 = Request('GET', testurl, params=params3).prepare().url"
   ]
  },
  {
   "cell_type": "code",
   "execution_count": null,
   "metadata": {},
   "outputs": [],
   "source": [
    "data1 = gpd.read_file(q1)"
   ]
  },
  {
   "cell_type": "code",
   "execution_count": null,
   "metadata": {},
   "outputs": [],
   "source": [
    "data2 = gpd.read_file(q2)"
   ]
  },
  {
   "cell_type": "code",
   "execution_count": null,
   "metadata": {},
   "outputs": [],
   "source": [
    "data3 = gpd.read_file(q3)"
   ]
  },
  {
   "cell_type": "code",
   "execution_count": null,
   "metadata": {},
   "outputs": [],
   "source": [
    "data1"
   ]
  },
  {
   "cell_type": "code",
   "execution_count": null,
   "metadata": {},
   "outputs": [],
   "source": [
    "data2"
   ]
  },
  {
   "cell_type": "code",
   "execution_count": null,
   "metadata": {},
   "outputs": [],
   "source": [
    "data3"
   ]
  },
  {
   "cell_type": "code",
   "execution_count": null,
   "metadata": {},
   "outputs": [],
   "source": [
    "data = data1.append(data2)"
   ]
  },
  {
   "cell_type": "code",
   "execution_count": null,
   "metadata": {},
   "outputs": [],
   "source": [
    "data = data.append(data3)"
   ]
  },
  {
   "cell_type": "code",
   "execution_count": null,
   "metadata": {},
   "outputs": [],
   "source": [
    "data"
   ]
  },
  {
   "cell_type": "code",
   "execution_count": null,
   "metadata": {},
   "outputs": [],
   "source": [
    "type(data)"
   ]
  },
  {
   "cell_type": "code",
   "execution_count": null,
   "metadata": {},
   "outputs": [],
   "source": []
  }
 ],
 "metadata": {
  "kernelspec": {
   "display_name": "Python 3",
   "language": "python",
   "name": "python3"
  },
  "language_info": {
   "codemirror_mode": {
    "name": "ipython",
    "version": 3
   },
   "file_extension": ".py",
   "mimetype": "text/x-python",
   "name": "python",
   "nbconvert_exporter": "python",
   "pygments_lexer": "ipython3",
   "version": "3.7.8"
  }
 },
 "nbformat": 4,
 "nbformat_minor": 4
}
