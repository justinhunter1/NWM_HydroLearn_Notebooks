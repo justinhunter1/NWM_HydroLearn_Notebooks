{
 "cells": [
  {
   "cell_type": "markdown",
   "metadata": {},
   "source": [
    "Welcome to the National Water Model (NWM) Sandbox! This Jupyter Notebook contains Python code that will allow you to explore NWM forecasts for any river segment covered by the NWM. Run each cell in the order that they appear by hitting the play icon at the top of your screen and be sure to read the comments and notes that are included along the way."
   ]
  },
  {
   "cell_type": "markdown",
   "metadata": {},
   "source": [
    "The next cell installs or imports all of the modules or packages that will be used in this notebook. We import the date type from the datetime module which will allow us to call todays date. The os module allows us to communicate with the operating system. The requests module lets us make requests to web pages. xarray is a package that will let us work with multidimensional datasets like our NWM forecasts. The matplotlib library will help us create some plots. "
   ]
  },
  {
   "cell_type": "code",
   "execution_count": 4,
   "metadata": {},
   "outputs": [],
   "source": [
    "from datetime import date\n",
    "import os\n",
    "import requests\n",
    "import xarray as xr\n",
    "import matplotlib.pyplot as plt\n",
    "# Set-up inline plots using matplotlib\n",
    "%matplotlib inline"
   ]
  },
  {
   "cell_type": "markdown",
   "metadata": {},
   "source": [
    "The next code cell defines all of the functions that are used in the notebook. Short descriptions are provided next to each function. Try to understand how they work by reading through the code. The first function builds the URL that represents a given forecast. The next function downloads the given forecast from NOAA. The third function gets a time series of data for a given stream segment and uses the first two functions to help create the time series."
   ]
  },
  {
   "cell_type": "code",
   "execution_count": 5,
   "metadata": {},
   "outputs": [],
   "source": [
    "# This function builds the url for a specific forecast from the \n",
    "# NOAA NWM http file delivery index (https://nomads.ncep.noaa.gov/pub/data/nccf/com/nwm/prod/)\n",
    "# The urls are similar to this one:\n",
    "# https://nomads.ncep.noaa.gov/pub/data/nccf/com/nwm/prod/nwm.20210320/short_range/nwm.t00z.short_range.channel_rt.f001.conus.nc\n",
    "def GetForecastFileName(ForecastStartDate = '20210321', ForecastStartTimestep='00', ForecastType = 'short_range', ForecastMember='1', TimeStep = '001'):\n",
    "  BaseName = 'https://nomads.ncep.noaa.gov/pub/data/nccf/com/nwm/prod/nwm.'\n",
    "\n",
    "  # ForecastStartDate = date.today.strftime('%Y%m%d')\n",
    "  ForecastStartDate\n",
    "\n",
    "  # Different forecast lengths have slightly different urls. The if elif statements help treat each forecast appropriately so that valid urls are built.\n",
    "  if (ForecastType == 'short_range'):\n",
    "    return BaseName + ForecastStartDate + '/short_range/nwm.t' + ForecastStartTimestep +'z.short_range.channel_rt.f' + TimeStep + '.conus.nc'\n",
    "  elif (ForecastType == 'medium_range'): \n",
    "    return BaseName + ForecastStartDate + '/medium_range_mem' + ForecastMember + '/nwm.t' + ForecastStartTimestep +'z.medium_range.channel_rt_' + ForecastMember + '.f' + TimeStep + '.conus.nc'\n",
    "  elif (ForecastType == 'long_range'):\n",
    "    return BaseName + ForecastStartDate + '/long_range_mem' + ForecastMember + '/nwm.t' + ForecastStartTimestep +'z.long_range.channel_rt_' + ForecastMember + '.f' + TimeStep + '.conus.nc'\n",
    "  else:\n",
    "    return 'error'\n",
    "\n",
    "\n",
    "# This function downloads the appropriate forecast's file from NOAA using a url\n",
    "def GetForecastFile(Url = 'https://nomads.ncep.noaa.gov/pub/data/nccf/com/nwm/prod/nwm.20210321/short_range/nwm.t00z.short_range.channel_rt.f001.conus.nc'):\n",
    "  FileName = os.path.basename(Url)\n",
    "  if os.path.exists(FileName):\n",
    "    os.remove(FileName)\n",
    "  r = requests.get(Url, allow_redirects=True)\n",
    "  open(FileName, 'wb').write(r.content)\n",
    "  return FileName\n",
    "\n",
    "\n",
    "# This function gets a time series of data for a stream segment by building time steps and looping through them\n",
    "def GetSeries(StreamID = 23275226, ForecastStartDate = '20210321', ForecastStartTimestep='00', ForecastType = 'short_range', ForecastMember='1'):\n",
    "  TimeSteps = []\n",
    "  TimeSteps.clear()\n",
    "  Series = []\n",
    "  Series.clear()\n",
    "  if (ForecastType=='short_range'):\n",
    "    for i in range(18):\n",
    "      TimeSteps.append(\"%03d\" % (i+1))\n",
    "  elif (ForecastType=='medium_range'):\n",
    "    for i in range(80):\n",
    "      TimeSteps.append(\"%03d\" % ((i+1)*3))\n",
    "  elif (ForecastType=='long_range'):\n",
    "    for i in range(120):\n",
    "      TimeSteps.append(\"%03d\" % ((i+1)*6))\n",
    "  else: \n",
    "    return 'Error building time steps'\n",
    "  \n",
    "  for ts in TimeSteps:\n",
    "    MyUrl = GetForecastFileName(ForecastStartDate,ForecastStartTimestep, ForecastType,ForecastMember,ts)\n",
    "    FileName = GetForecastFile(MyUrl)\n",
    "    if(FileName != 'error'):\n",
    "      data = xr.open_dataset(FileName)\n",
    "      Q = float(data.sel(feature_id=StreamID).streamflow.values)\n",
    "      Series.append(Q)\n",
    "    else:\n",
    "      print('Error getting forecast files.')\n",
    "    \n",
    "  return Series"
   ]
  },
  {
   "cell_type": "markdown",
   "metadata": {},
   "source": [
    "The next few cells use our previously defined functions to get a forecast for a river and display it on a matplotlib plot. Feel free to try changing the variables in the '# Variables' cell. If you choose not to make any changes it should provide you with today's short range forecast for the Colorado River near Glenwood Springs, Colorado. Depending on the forecast that you've chosen these cells could take a while to run. \n",
    "\n",
    "Notes: \n",
    "1) The medium range forecast has 10 members. But Member 1 is 10 days long while members 2-9 are 8.5 days long\n",
    "2) The units of the data are cubic meters per second (not cfs)\n",
    "3) Dates need to be specified in yyyymmdd format and only today or yesterday may be used\n",
    "4) If you would like to obtain a different StreamID/ReachID, you can do so by clicking on a river of interest at https://water.noaa.gov/map. "
   ]
  },
  {
   "cell_type": "code",
   "execution_count": 6,
   "metadata": {},
   "outputs": [
    {
     "name": "stdout",
     "output_type": "stream",
     "text": [
      "2021-05-21\n",
      "20210521\n"
     ]
    }
   ],
   "source": [
    "# This gets todays date, stores it in yyyymmdd format and assigns it to the variable 'today' which we use in the next cell\n",
    "today = date.today()\n",
    "print(today)\n",
    "today = str(today)\n",
    "today = today.replace(\"-\", \"\")\n",
    "print(today)"
   ]
  },
  {
   "cell_type": "code",
   "execution_count": 38,
   "metadata": {},
   "outputs": [
    {
     "name": "stdout",
     "output_type": "stream",
     "text": [
      "[92.61999792978168, 90.5999979749322, 89.00999801047146, 87.62999804131687, 86.77999806031585, 85.56999808736145, 84.1699981186539, 82.7299981508404, 81.29999818280339, 79.89999821409583, 78.56999824382365, 77.33999827131629, 76.21999829635024, 75.18999831937253, 74.25999834015965, 73.43999835848808, 72.70999837480485, 72.07999838888645]\n"
     ]
    }
   ],
   "source": [
    "# Variables\n",
    "# The unique identifier corresponding to a river segment:\n",
    "StreamID = 3175546            \n",
    "\n",
    "# Date in YYYYMMDD format, can only be today or yesterday. Here we call our variable 'today' from the previous cell:\n",
    "ForecastStartDate = today  \n",
    "\n",
    "# Timestep forecast was issued, 00 = midnight CST (Central Standard Time), Cannot exceed 24, \n",
    "# Cannot be in the future (Example: Today two hours from now)\n",
    "# For short_range can be 00, 01, 02, 03, etc.\n",
    "# For medium_range or long_range can be 00, 06, 12, etc.:\n",
    "ForecastStartTimestep = '00'       \n",
    "\n",
    "# Options are 'short_range', 'medium_range', and 'long_range':\n",
    "ForecastType = 'short_range'       \n",
    "\n",
    "# Should be 1 for short_range. If using medium_range or 'long_range' then specify the ensemble member \n",
    "# (1-4 for long_range or 1-7 for medium_range):\n",
    "ForecastMember = '1'                \n",
    "\n",
    "# Now we use the GetSeries function from above, and provide it with the arguments as defined above.\n",
    "Series = GetSeries(StreamID, ForecastStartDate, ForecastStartTimestep, ForecastType, ForecastMember)\n",
    "print(Series)\n",
    "\n",
    "# medium_range for members 2-9 doesn't usually work... and long_range for members 3 and 4 sometimes works"
   ]
  },
  {
   "cell_type": "code",
   "execution_count": 39,
   "metadata": {},
   "outputs": [
    {
     "data": {
      "image/png": "[encoded data removed]",
      "text/plain": [
       "<Figure size 720x432 with 1 Axes>"
      ]
     },
     "metadata": {
      "needs_background": "light"
     },
     "output_type": "display_data"
    }
   ],
   "source": [
    "# Now lets draw a plot for the series\n",
    "plt.rc('font', size=14)\n",
    "fig, ax = plt.subplots(figsize=(10, 6))\n",
    "ax.plot(Series, color='tab:blue', label='Streamflow')\n",
    "ax.set_xlabel('Time')\n",
    "ax.set_ylabel('Flowrate (cms)')\n",
    "ax.set_title(ForecastType + ' for Stream ID ' + str(StreamID))\n",
    "ax.grid(True)"
   ]
  },
  {
   "cell_type": "markdown",
   "metadata": {},
   "source": [
    "The next cell erases the forecast files that were downloaded previously. You can see the files on the left hand side of your screen by clicking on the folder icon prior to running the cell. The cell is also written so that it will print out the name of each file that it removes/deletes."
   ]
  },
  {
   "cell_type": "code",
   "execution_count": 35,
   "metadata": {},
   "outputs": [
    {
     "name": "stdout",
     "output_type": "stream",
     "text": [
      "nwm.t00z.medium_range.channel_rt_4.f126.conus.nc\n",
      "nwm.t00z.medium_range.channel_rt_2.f027.conus.nc\n",
      "nwm.t00z.medium_range.channel_rt_2.f108.conus.nc\n",
      "nwm.t00z.medium_range.channel_rt_4.f177.conus.nc\n",
      "nwm.t00z.medium_range.channel_rt_4.f141.conus.nc\n",
      "nwm.t00z.medium_range.channel_rt_4.f033.conus.nc\n",
      "nwm.t00z.medium_range.channel_rt_4.f171.conus.nc\n",
      "nwm.t00z.medium_range.channel_rt_2.f024.conus.nc\n",
      "nwm.t00z.medium_range.channel_rt_4.f063.conus.nc\n",
      "nwm.t00z.medium_range.channel_rt_2.f105.conus.nc\n",
      "nwm.t00z.medium_range.channel_rt_4.f108.conus.nc\n",
      "nwm.t00z.medium_range.channel_rt_2.f009.conus.nc\n",
      "nwm.t00z.medium_range.channel_rt_4.f132.conus.nc\n",
      "nwm.t00z.medium_range.channel_rt_2.f069.conus.nc\n",
      "nwm.t00z.medium_range.channel_rt_4.f051.conus.nc\n",
      "nwm.t00z.medium_range.channel_rt_2.f111.conus.nc\n",
      "nwm.t00z.medium_range.channel_rt_4.f117.conus.nc\n",
      "nwm.t00z.medium_range.channel_rt_2.f066.conus.nc\n",
      "nwm.t00z.medium_range.channel_rt_2.f186.conus.nc\n",
      "nwm.t00z.medium_range.channel_rt_2.f198.conus.nc\n",
      "nwm.t00z.medium_range.channel_rt_4.f048.conus.nc\n",
      "nwm.t00z.medium_range.channel_rt_4.f168.conus.nc\n",
      "nwm.t00z.medium_range.channel_rt_4.f156.conus.nc\n",
      "nwm.t00z.medium_range.channel_rt_4.f096.conus.nc\n",
      "nwm.t00z.medium_range.channel_rt_2.f168.conus.nc\n",
      "nwm.t00z.medium_range.channel_rt_2.f138.conus.nc\n",
      "nwm.t00z.medium_range.channel_rt_2.f075.conus.nc\n",
      "nwm.t00z.medium_range.channel_rt_4.f105.conus.nc\n",
      "nwm.t00z.medium_range.channel_rt_2.f090.conus.nc\n",
      "nwm.t00z.medium_range.channel_rt_2.f156.conus.nc\n",
      "nwm.t00z.medium_range.channel_rt_2.f183.conus.nc\n",
      "nwm.t00z.medium_range.channel_rt_2.f057.conus.nc\n",
      "nwm.t00z.medium_range.channel_rt_2.f207.conus.nc\n",
      "nwm.t00z.medium_range.channel_rt_4.f144.conus.nc\n",
      "nwm.t00z.medium_range.channel_rt_4.f195.conus.nc\n",
      "nwm.t00z.medium_range.channel_rt_2.f132.conus.nc\n",
      "nwm.t00z.medium_range.channel_rt_2.f063.conus.nc\n",
      "nwm.t00z.medium_range.channel_rt_4.f099.conus.nc\n",
      "nwm.t00z.medium_range.channel_rt_2.f003.conus.nc\n",
      "nwm.t00z.medium_range.channel_rt_4.f075.conus.nc\n",
      "nwm.t00z.medium_range.channel_rt_4.f015.conus.nc\n",
      "nwm.t00z.medium_range.channel_rt_4.f135.conus.nc\n",
      "nwm.t00z.medium_range.channel_rt_4.f183.conus.nc\n",
      "nwm.t00z.medium_range.channel_rt_4.f066.conus.nc\n",
      "nwm.t00z.medium_range.channel_rt_2.f048.conus.nc\n",
      "nwm.t00z.medium_range.channel_rt_4.f162.conus.nc\n",
      "nwm.t00z.medium_range.channel_rt_4.f039.conus.nc\n",
      "nwm.t00z.medium_range.channel_rt_2.f084.conus.nc\n",
      "nwm.t00z.medium_range.channel_rt_2.f021.conus.nc\n",
      "nwm.t00z.medium_range.channel_rt_2.f150.conus.nc\n",
      "nwm.t00z.medium_range.channel_rt_4.f081.conus.nc\n",
      "nwm.t00z.medium_range.channel_rt_2.f060.conus.nc\n",
      "nwm.t00z.medium_range.channel_rt_2.f036.conus.nc\n",
      "nwm.t00z.medium_range.channel_rt_2.f102.conus.nc\n",
      "nwm.t00z.medium_range.channel_rt_4.f186.conus.nc\n",
      "nwm.t00z.medium_range.channel_rt_4.f030.conus.nc\n",
      "nwm.t00z.medium_range.channel_rt_2.f045.conus.nc\n",
      "nwm.t00z.medium_range.channel_rt_2.f180.conus.nc\n",
      "nwm.t00z.medium_range.channel_rt_4.f153.conus.nc\n",
      "nwm.t00z.medium_range.channel_rt_4.f069.conus.nc\n",
      "nwm.t00z.medium_range.channel_rt_2.f144.conus.nc\n",
      "nwm.t00z.medium_range.channel_rt_2.f030.conus.nc\n",
      "nwm.t00z.medium_range.channel_rt_4.f003.conus.nc\n",
      "nwm.t00z.medium_range.channel_rt_2.f114.conus.nc\n",
      "nwm.t00z.medium_range.channel_rt_2.f093.conus.nc\n",
      "nwm.t00z.medium_range.channel_rt_4.f114.conus.nc\n",
      "nwm.t00z.medium_range.channel_rt_4.f192.conus.nc\n",
      "nwm.t00z.medium_range.channel_rt_2.f042.conus.nc\n",
      "nwm.t00z.medium_range.channel_rt_4.f123.conus.nc\n",
      "nwm.t00z.medium_range.channel_rt_4.f018.conus.nc\n",
      "nwm.t00z.medium_range.channel_rt_4.f147.conus.nc\n",
      "nwm.t00z.medium_range.channel_rt_4.f174.conus.nc\n",
      "nwm.t00z.medium_range.channel_rt_2.f204.conus.nc\n",
      "nwm.t00z.medium_range.channel_rt_4.f102.conus.nc\n",
      "nwm.t00z.medium_range.channel_rt_4.f027.conus.nc\n",
      "nwm.t00z.medium_range.channel_rt_4.f021.conus.nc\n",
      "nwm.t00z.medium_range.channel_rt_2.f174.conus.nc\n",
      "nwm.t00z.medium_range.channel_rt_2.f012.conus.nc\n",
      "nwm.t00z.medium_range.channel_rt_4.f159.conus.nc\n",
      "nwm.t00z.medium_range.channel_rt_4.f054.conus.nc\n",
      "nwm.t00z.medium_range.channel_rt_2.f141.conus.nc\n",
      "nwm.t00z.medium_range.channel_rt_4.f084.conus.nc\n",
      "nwm.t00z.medium_range.channel_rt_2.f120.conus.nc\n",
      "nwm.t00z.medium_range.channel_rt_4.f207.conus.nc\n",
      "nwm.t00z.medium_range.channel_rt_4.f120.conus.nc\n",
      "nwm.t00z.medium_range.channel_rt_4.f042.conus.nc\n",
      "nwm.t00z.medium_range.channel_rt_4.f036.conus.nc\n",
      "nwm.t00z.medium_range.channel_rt_2.f033.conus.nc\n",
      "nwm.t00z.medium_range.channel_rt_2.f165.conus.nc\n",
      "nwm.t00z.medium_range.channel_rt_2.f078.conus.nc\n",
      "nwm.t00z.medium_range.channel_rt_2.f039.conus.nc\n",
      "nwm.t00z.medium_range.channel_rt_4.f198.conus.nc\n",
      "nwm.t00z.medium_range.channel_rt_2.f159.conus.nc\n",
      "nwm.t00z.medium_range.channel_rt_2.f177.conus.nc\n",
      "nwm.t00z.medium_range.channel_rt_4.f087.conus.nc\n",
      "nwm.t00z.medium_range.channel_rt_4.f090.conus.nc\n",
      "nwm.t00z.medium_range.channel_rt_2.f126.conus.nc\n",
      "nwm.t00z.medium_range.channel_rt_2.f135.conus.nc\n",
      "nwm.t00z.medium_range.channel_rt_4.f138.conus.nc\n",
      "nwm.t00z.medium_range.channel_rt_4.f150.conus.nc\n",
      "nwm.t00z.medium_range.channel_rt_4.f111.conus.nc\n",
      "nwm.t00z.medium_range.channel_rt_4.f012.conus.nc\n",
      "nwm.t00z.medium_range.channel_rt_2.f123.conus.nc\n",
      "nwm.t00z.medium_range.channel_rt_2.f096.conus.nc\n",
      "nwm.t00z.medium_range.channel_rt_2.f189.conus.nc\n",
      "nwm.t00z.medium_range.channel_rt_4.f129.conus.nc\n",
      "nwm.t00z.medium_range.channel_rt_4.f165.conus.nc\n",
      "nwm.t00z.medium_range.channel_rt_4.f072.conus.nc\n",
      "nwm.t00z.medium_range.channel_rt_2.f171.conus.nc\n",
      "nwm.t00z.medium_range.channel_rt_4.f093.conus.nc\n",
      "nwm.t00z.medium_range.channel_rt_4.f009.conus.nc\n",
      "nwm.t00z.medium_range.channel_rt_2.f081.conus.nc\n",
      "nwm.t00z.medium_range.channel_rt_2.f147.conus.nc\n",
      "nwm.t00z.medium_range.channel_rt_4.f024.conus.nc\n",
      "nwm.t00z.medium_range.channel_rt_4.f180.conus.nc\n",
      "nwm.t00z.medium_range.channel_rt_2.f195.conus.nc\n",
      "nwm.t00z.medium_range.channel_rt_4.f204.conus.nc\n",
      "nwm.t00z.medium_range.channel_rt_2.f072.conus.nc\n",
      "nwm.t00z.medium_range.channel_rt_2.f018.conus.nc\n",
      "nwm.t00z.medium_range.channel_rt_4.f201.conus.nc\n",
      "nwm.t00z.medium_range.channel_rt_4.f045.conus.nc\n",
      "nwm.t00z.medium_range.channel_rt_2.f087.conus.nc\n",
      "nwm.t00z.medium_range.channel_rt_2.f051.conus.nc\n",
      "nwm.t00z.medium_range.channel_rt_4.f006.conus.nc\n",
      "nwm.t00z.medium_range.channel_rt_4.f189.conus.nc\n",
      "nwm.t00z.medium_range.channel_rt_4.f078.conus.nc\n",
      "nwm.t00z.medium_range.channel_rt_2.f015.conus.nc\n",
      "nwm.t00z.medium_range.channel_rt_2.f201.conus.nc\n",
      "nwm.t00z.medium_range.channel_rt_4.f057.conus.nc\n",
      "nwm.t00z.medium_range.channel_rt_2.f162.conus.nc\n",
      "nwm.t00z.medium_range.channel_rt_2.f117.conus.nc\n",
      "nwm.t00z.medium_range.channel_rt_4.f060.conus.nc\n",
      "nwm.t00z.medium_range.channel_rt_2.f054.conus.nc\n",
      "nwm.t00z.medium_range.channel_rt_2.f099.conus.nc\n",
      "nwm.t00z.medium_range.channel_rt_2.f006.conus.nc\n",
      "nwm.t00z.medium_range.channel_rt_2.f153.conus.nc\n",
      "nwm.t00z.medium_range.channel_rt_2.f129.conus.nc\n",
      "nwm.t00z.medium_range.channel_rt_2.f192.conus.nc\n"
     ]
    }
   ],
   "source": [
    "files = [f for f in os.listdir('.') \n",
    "         if os.path.isfile(f)]\n",
    "\n",
    "for f in files:\n",
    "    # Look at every file and if contains 'nwm' then remove/delete it! \n",
    "    if \"nwm\" in f:\n",
    "        print(f)\n",
    "        os.remove(f)"
   ]
  },
  {
   "cell_type": "markdown",
   "metadata": {},
   "source": [
    "Now lets take a look at a few different rivers and their forecasts. Sometimes looking at forecasts for several nearby rivers might provide a better picture of what is going on in that area. Let's take a look at forecasts for 3 rivers near Clarksville, TN."
   ]
  },
  {
   "cell_type": "code",
   "execution_count": null,
   "metadata": {},
   "outputs": [],
   "source": [
    "#Stream/Reach IDs\n",
    "cumberland_river_id = 11881284\n",
    "red_river_id = 10169834\n",
    "little_river_id = 11879984\n",
    "\n",
    "#Obtaining time series data\n",
    "cumberland_series = GetSeries(cumberland_river_id, today, '00', 'short_range', '1')\n",
    "red_series = GetSeries(red_river_id, today, '00', 'short_range', '1')\n",
    "little_series = GetSeries(little_river_id, today, '00', 'short_range', '1')\n",
    "\n",
    "#Cumberland River Plot\n",
    "plt.rc('font', size=12)\n",
    "fig, ax = plt.subplots(figsize=(8, 8))\n",
    "ax.plot(cumberland_series, color='tab:red', label='Streamflow')\n",
    "ax.set_xlabel('Time')\n",
    "ax.set_ylabel('Flowrate (cms)')\n",
    "ax.set_title('short_range' + ' for Stream ID ' + str(cumberland_river_id))\n",
    "ax.grid(True)\n",
    "\n",
    "#Red River Plot\n",
    "plt.rc('font', size=12)\n",
    "fig, ax = plt.subplots(figsize=(8, 8))\n",
    "ax.plot(red_series, color='tab:blue', label='Streamflow')\n",
    "ax.set_xlabel('Time')\n",
    "ax.set_ylabel('Flowrate (cms)')\n",
    "ax.set_title('short_range' + ' for Stream ID ' + str(red_river_id))\n",
    "ax.grid(True)\n",
    "\n",
    "#Little River Plot\n",
    "plt.rc('font', size=12)\n",
    "fig, ax = plt.subplots(figsize=(8, 8))\n",
    "ax.plot(little_series, color='tab:green', label='Streamflow')\n",
    "ax.set_xlabel('Time')\n",
    "ax.set_ylabel('Flowrate (cms)')\n",
    "ax.set_title('short_range' + ' for Stream ID ' + str(little_river_id))\n",
    "ax.grid(True)"
   ]
  },
  {
   "cell_type": "markdown",
   "metadata": {},
   "source": [
    "That's cool. However, it might be better to see what they look like together on the same plot. Let's try that."
   ]
  },
  {
   "cell_type": "code",
   "execution_count": null,
   "metadata": {},
   "outputs": [],
   "source": [
    "# Plot all three rivers on the same plot\n",
    "plt.rc('font', size=12)\n",
    "fig, ax = plt.subplots(figsize=(8, 8))\n",
    "ax.plot(little_series, color='tab:green', label='Streamflow')\n",
    "ax.plot(cumberland_series, color='tab:blue', label='Streamflow')\n",
    "ax.plot(red_series, color='tab:red', label='Streamflow')\n",
    "ax.set_xlabel('Time')\n",
    "ax.set_ylabel('Flowrate (cms)')\n",
    "ax.set_title('The Cumberland, Red, and Little Rivers' + ' Short Range forecasts')\n",
    "plt.legend([\"Little River\", \"Cumberland River\", \"Red River\"])\n",
    "ax.grid(True)"
   ]
  },
  {
   "cell_type": "markdown",
   "metadata": {},
   "source": [
    "Because the Red River and the Little River have relatively small volumes as compared to the much larger Cumberland River, that plot isn't particularly useful. Let's try that again. We can plot all three forecasts on different y axes on the same plot. That will allow us to compare the shapes of the forecasts and maybe learn more about what is going on in the area."
   ]
  },
  {
   "cell_type": "code",
   "execution_count": null,
   "metadata": {},
   "outputs": [],
   "source": [
    "s1 = cumberland_series\n",
    "s2 = red_series\n",
    "s3 = little_series\n",
    "\n",
    "plt.rc('font', size=12)\n",
    "fig, ax = plt.subplots(figsize=(10, 10))\n",
    "\n",
    "twin1 = ax.twinx()\n",
    "twin2 = ax.twinx()\n",
    "\n",
    "ax.plot(s1, \"g-\")\n",
    "twin1.plot(s3, \"b-\")\n",
    "twin2.plot(s2, \"r-\")\n",
    "\n",
    "ax.set_xlabel('Time')\n",
    "ax.set_ylabel('Flowrate (cms) - Cumberland River')\n",
    "twin1.set_ylabel(\"Flowrate (cms) - Little River\", labelpad=20)\n",
    "twin2.set_ylabel(\"Flowrate (cms) - Red River\", labelpad=30)\n",
    "\n",
    "ax.yaxis.label.set_color(\"blue\")\n",
    "twin1.yaxis.label.set_color(\"green\")\n",
    "twin2.yaxis.label.set_color(\"red\")\n",
    "\n",
    "ax.tick_params(axis='y', colors=\"blue\")\n",
    "twin1.tick_params(axis='y', colors=\"green\")\n",
    "twin2.tick_params(axis='y', colors=\"red\")\n",
    "\n",
    "ax.set_title('Cumberland, Red, and Little Rivers' + ' Short Range Forecasts')\n",
    "ax.grid(True)"
   ]
  },
  {
   "cell_type": "markdown",
   "metadata": {},
   "source": [
    "That looks a bit better!"
   ]
  },
  {
   "cell_type": "markdown",
   "metadata": {},
   "source": [
    "Run the last cell to erase all the downloaded forecasts again!"
   ]
  },
  {
   "cell_type": "code",
   "execution_count": 3,
   "metadata": {},
   "outputs": [
    {
     "name": "stdout",
     "output_type": "stream",
     "text": [
      "nwm.t00z.short_range.channel_rt.f001.conus.nc\n"
     ]
    }
   ],
   "source": [
    "files = [f for f in os.listdir('.') \n",
    "         if os.path.isfile(f)]\n",
    "\n",
    "for f in files:\n",
    "    # Look at every file and if contains 'nwm' then remove/delete it! \n",
    "    if \"nwm\" in f:\n",
    "        print(f)\n",
    "        os.remove(f)"
   ]
  }
 ],
 "metadata": {
  "kernelspec": {
   "display_name": "Python 3",
   "language": "python",
   "name": "python3"
  },
  "language_info": {
   "codemirror_mode": {
    "name": "ipython",
    "version": 3
   },
   "file_extension": ".py",
   "mimetype": "text/x-python",
   "name": "python",
   "nbconvert_exporter": "python",
   "pygments_lexer": "ipython3",
   "version": "3.7.8"
  }
 },
 "nbformat": 4,
 "nbformat_minor": 4
}
