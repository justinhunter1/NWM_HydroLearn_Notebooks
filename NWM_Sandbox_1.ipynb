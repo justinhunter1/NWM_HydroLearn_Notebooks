{
 "cells": [
  {
   "cell_type": "markdown",
   "metadata": {},
   "source": [
    "Welcome to the National Water Model (NWM) Sandbox! This Jupyter Notebook contains Python functions that will allow you to explore NWM forecasts for any river segment covered by the NWM. Execute each cell in the order that they appear and read the comments and notes that are included along the way."
   ]
  },
  {
   "cell_type": "markdown",
   "metadata": {},
   "source": [
    "The next cell installs or imports all of the modules or packages that will be used in this notebook."
   ]
  },
  {
   "cell_type": "code",
   "execution_count": 6,
   "metadata": {},
   "outputs": [
    {
     "name": "stdout",
     "output_type": "stream",
     "text": [
      "Requirement already satisfied: netcdf4 in /opt/conda/lib/python3.7/site-packages (1.5.4)\n",
      "Requirement already satisfied: cftime in /opt/conda/lib/python3.7/site-packages (from netcdf4) (1.2.1)\n",
      "Requirement already satisfied: numpy>=1.9 in /opt/conda/lib/python3.7/site-packages (from netcdf4) (1.19.2)\n"
     ]
    }
   ],
   "source": [
    "!pip install netcdf4\n",
    "!pip install geoglows -q\n",
    "from datetime import date\n",
    "import os\n",
    "import geoglows\n",
    "import requests\n",
    "import pandas as pd\n",
    "import xarray as xr\n",
    "import matplotlib.pyplot as plt\n",
    "from matplotlib.dates import DateFormatter, DayLocator\n",
    "\n",
    "#Set-up inline plots using matplotlib\n",
    "%matplotlib inline"
   ]
  },
  {
   "cell_type": "markdown",
   "metadata": {},
   "source": [
    "The next code cell defines all of the functions that are used in the notebook. Short descriptions are provided next to each function. Try to understand how they work by reading through the code."
   ]
  },
  {
   "cell_type": "code",
   "execution_count": 7,
   "metadata": {},
   "outputs": [],
   "source": [
    "#This function builds a file name for a specific forecast from the NOAA NWM http file delivery web site like this one:\n",
    "#https://nomads.ncep.noaa.gov/pub/data/nccf/com/nwm/prod/nwm.20210320/short_range/nwm.t00z.short_range.channel_rt.f001.conus.nc\n",
    "def GetForecastFileName(ForecastStartDate = '20210321', ForecastStartTimestep='00', ForecastType = 'short_range', ForecastMember='1', TimeStep = '001'):\n",
    "  BaseName = 'https://nomads.ncep.noaa.gov/pub/data/nccf/com/nwm/prod/nwm.'\n",
    "\n",
    "  #ForecastStartDate = date.today.strftime('%Y%m%d')\n",
    "  ForecastStartDate\n",
    "\n",
    "  if (ForecastType == 'short_range'):\n",
    "    return BaseName + ForecastStartDate + '/short_range/nwm.t' + ForecastStartTimestep +'z.short_range.channel_rt.f' + TimeStep + '.conus.nc'\n",
    "  elif (ForecastType == 'medium_range'): \n",
    "    return BaseName + ForecastStartDate + '/medium_range_mem' + ForecastMember + '/nwm.t' + ForecastStartTimestep +'z.medium_range.channel_rt_' + ForecastMember + '.f' + TimeStep + '.conus.nc'\n",
    "  elif (ForecastType == 'long_range'):\n",
    "    return BaseName + ForecastStartDate + '/long_range_mem' + ForecastMember + '/nwm.t' + ForecastStartTimestep +'z.long_range.channel_rt_' + ForecastMember + '.f' + TimeStep + '.conus.nc'\n",
    "  else:\n",
    "    return 'error'\n",
    "\n",
    "\n",
    "#This function checks if a url is valid\n",
    "def ValidUrl(url = 'https://nomads.ncep.noaa.gov/pub/data/nccf/com/nwm/prod/nwm.20210321/short_range/nwm.t00z.short_range.channel_rt.f001.conus.nc'):\n",
    "  request = requests.get(url)\n",
    "  if request.status_code == 200:\n",
    "    return True\n",
    "  else:\n",
    "    return False \n",
    "\n",
    "\n",
    "#This function downloads the appropriate forecast's file from NOAA\n",
    "def GetForecastFile(Url = 'https://nomads.ncep.noaa.gov/pub/data/nccf/com/nwm/prod/nwm.20210321/short_range/nwm.t00z.short_range.channel_rt.f001.conus.nc'):\n",
    "  FileName = os.path.basename(Url)\n",
    "  if os.path.exists(FileName):\n",
    "    os.remove(FileName)\n",
    "  r = requests.get(Url, allow_redirects=True)\n",
    "  open(FileName, 'wb').write(r.content)\n",
    "  return FileName\n",
    "\n",
    "\n",
    "#This function gets a time series of data for a single stream segment\n",
    "def GetSeries(StreamID = 23275226, ForecastStartDate = '20210321', ForecastStartTimestep='00', ForecastType = 'short_range', ForecastMember='1'):\n",
    "  TimeSteps = []\n",
    "  TimeSteps.clear()\n",
    "  Series = []\n",
    "  Series.clear()\n",
    "  if (ForecastType=='short_range'):\n",
    "    for i in range(18):\n",
    "      TimeSteps.append(\"%03d\" % (i+1))\n",
    "  elif (ForecastType=='medium_range'):\n",
    "    for i in range(80):\n",
    "      TimeSteps.append(\"%03d\" % ((i+1)*3))\n",
    "  elif (ForecastType=='long_range'):\n",
    "    for i in range(120):\n",
    "      TimeSteps.append(\"%03d\" % ((i+1)*6))\n",
    "  else: \n",
    "    return 'Error building time steps'\n",
    "  \n",
    "  for ts in TimeSteps:\n",
    "    MyUrl = GetForecastFileName(ForecastStartDate,ForecastStartTimestep, ForecastType,ForecastMember,ts)\n",
    "    FileName = GetForecastFile(MyUrl)\n",
    "    if(FileName != 'error'):\n",
    "      data = xr.open_dataset(FileName)\n",
    "      Q = float(data.sel(feature_id=StreamID).streamflow.values)\n",
    "      Series.append(Q)\n",
    "    else:\n",
    "      print('Error getting forecast files.')\n",
    "    \n",
    "  return Series"
   ]
  },
  {
   "cell_type": "markdown",
   "metadata": {},
   "source": [
    "The next code cell uses our previously defined functions. Feel free to change the variables under the #Variable Notes comment. If you choose not to make any changes and run the cell it should provide you with today's short range forecast for the Colorado River near Glenwood Springs, Colorado.\n",
    "\n",
    "Notes: \n",
    "1) The medium range forecast has 10 members. But Member 1 is 10 days long while members 2-9 are 8.5 days long\n",
    "2) The units of the data are cubic meters per second (not cfs)\n",
    "3) Dates need to be specified in yyyymmdd format\n",
    "4) If you would like to obtain a different StreamID/ReachID, you can do so by clicking on a river of interest at https://water.noaa.gov/map. Alternatively, you can obtain a reachID using the geoglows package if you know the latitude and longitude of an area of interest like this: reach = geoglows.streamflow.latlon_to_reach(39.0014,-109.1383)\n",
    "-This would assign the ReachID for Westwater Canyon on the Colorado River near Cisco, UT to a variable called 'reach'"
   ]
  },
  {
   "cell_type": "code",
   "execution_count": 8,
   "metadata": {},
   "outputs": [
    {
     "name": "stdout",
     "output_type": "stream",
     "text": [
      "[81.15999818593264, 78.90999823622406, 76.95999827980995, 75.63999830931425, 74.84999832697213, 74.05999834463, 73.07999836653471, 71.94999839179218, 70.70999841950834, 69.44999844767153, 68.20999847538769, 67.0599985010922, 66.019998524338, 65.10999854467809, 64.32999856211245, 63.63999857753515, 63.0399985909462, 62.489998603239655]\n"
     ]
    },
    {
     "data": {
      "image/png": "[encoded data removed]",
      "text/plain": [
       "<Figure size 720x432 with 1 Axes>"
      ]
     },
     "metadata": {
      "needs_background": "light"
     },
     "output_type": "display_data"
    }
   ],
   "source": [
    "# This gets todays date, stores it in yyyymmdd format and assigns it to the variable 'today'\n",
    "today = date.today()\n",
    "today = str(today)\n",
    "today = today.replace(\"-\", \"\")\n",
    "\n",
    "# Variable Notes\n",
    "StreamID = 3175546                  # The unique identifier corresponding to a river segment\n",
    "ForecastStartDate = today           # Today's date in YYYYMMDD format. \n",
    "ForecastStartTimestep = '00'        # Timestep forecast was issued, 00 = midnight CST\n",
    "ForecastType = 'short_range'        # Options are 'short_range', 'medium_range', and 'long_range'\n",
    "ForecastMember = '1'                # If using medium_range or 'long_range' then specify the ensemble member # (1-4 for long_range or 1-7 for medium_range)\n",
    "\n",
    "#Now we use the GetSeries function from above, and provide it with the arguments as defined above.\n",
    "Series = GetSeries(StreamID, ForecastStartDate, ForecastStartTimestep, ForecastType, ForecastMember)\n",
    "print(Series)\n",
    "\n",
    "# Draw a plot for the series\n",
    "plt.rc('font', size=12)\n",
    "fig, ax = plt.subplots(figsize=(10, 6))\n",
    "ax.plot( Series, color='tab:blue', label='Streamflow')\n",
    "ax.set_xlabel('Time')\n",
    "ax.set_ylabel('Flowrate (cms)')\n",
    "ax.set_title(ForecastType + ' for Stream ID ' + str(StreamID))\n",
    "ax.grid(True)\n",
    "\n",
    "#This cell could take a while to run! Be patient!"
   ]
  },
  {
   "cell_type": "code",
   "execution_count": null,
   "metadata": {},
   "outputs": [],
   "source": []
  }
 ],
 "metadata": {
  "kernelspec": {
   "display_name": "Python 3",
   "language": "python",
   "name": "python3"
  },
  "language_info": {
   "codemirror_mode": {
    "name": "ipython",
    "version": 3
   },
   "file_extension": ".py",
   "mimetype": "text/x-python",
   "name": "python",
   "nbconvert_exporter": "python",
   "pygments_lexer": "ipython3",
   "version": "3.7.8"
  }
 },
 "nbformat": 4,
 "nbformat_minor": 4
}
