{
 "cells": [
  {
   "cell_type": "markdown",
   "metadata": {},
   "source": [
    "## Welcome to the National Water Model (NWM) Sandbox! \n",
    "\n",
    "<strong><em>Created by <a href=\"https://www.linkedin.com/in/justin-hunter-0b86871a6/\" target=\"_blank\">Justin Hunter</a>, <a href=\"https://www.linkedin.com/in/danames/\" target=\"_blank\">Dr. Dan Ames</a>, and <a href=\"https://www.linkedin.com/in/easton-perkins-02968a156/\" target=\"_blank\">Easton Perkins</a>.</em></strong><br>\n",
    "<em><strong>May, 2021. Brigham Young University. Provo, Utah.\n",
    "<a href=\"https://hydroinformatics.byu.edu\" target=\"_blank\">BYU Hydroinformatics Lab</a>.</em></strong>"
   ]
  },
  {
   "cell_type": "markdown",
   "metadata": {},
   "source": [
    "This Jupyter Notebook is a combination of text and Python code. Running the code cells will allow you to explore NWM forecasts for any river segment covered by the NWM. Run each cell in the order that they appear by hitting the run (play) icon at the top of your screen and be sure to read the comments and notes that are included along the way."
   ]
  },
  {
   "cell_type": "markdown",
   "metadata": {},
   "source": [
    "<em><h4>Imports</h4></em>"
   ]
  },
  {
   "cell_type": "markdown",
   "metadata": {},
   "source": [
    "This next cell imports a few different Python modules or packages that will be used in this notebook. A Python package adds additional functionality to Python. A brief explanation of what each package will be used for is included below.\n",
    "* The date type from the datetime module will allow us to call todays date into our code.\n",
    "* The os module allows us to communicate with the operating system. \n",
    "* The requests module lets us make requests to web pages. \n",
    "* Xarray lets us work with multidimensional datasets like the NWM forecasts. \n",
    "* Matplotlib will help us create some plots. "
   ]
  },
  {
   "cell_type": "code",
   "execution_count": null,
   "metadata": {},
   "outputs": [],
   "source": [
    "from datetime import date\n",
    "import os\n",
    "import requests\n",
    "import xarray as xr\n",
    "import matplotlib.pyplot as plt\n",
    "# Set-up inline plots using matplotlib\n",
    "%matplotlib inline"
   ]
  },
  {
   "cell_type": "markdown",
   "metadata": {},
   "source": [
    "<em><h4>Functions</h4></em>"
   ]
  },
  {
   "cell_type": "markdown",
   "metadata": {},
   "source": [
    "The next code cell defines three functions that are used in the notebook. Short descriptions are provided next to each function as Python comments. Python comments always follow a '#'. Try to understand how the functions work by reading through the code. The first function builds the URL for a given forecast. The next function downloads the given forecast from NOAA. The third function gets a time series of data for a given stream segment and uses the first two functions to get the necessary forecasts."
   ]
  },
  {
   "cell_type": "code",
   "execution_count": null,
   "metadata": {},
   "outputs": [],
   "source": [
    "# This function builds the url for a specific forecast from the NOAA NWM http file delivery index (https://nomads.ncep.noaa.gov/pub/data/nccf/com/nwm/prod/)\n",
    "# The urls are similar to this one: 'https://nomads.ncep.noaa.gov/pub/data/nccf/com/nwm/prod/nwm.20210320/short_range/nwm.t00z.short_range.channel_rt.f001.conus.nc'\n",
    "def GetForecastFileName(ForecastStartDate = '20210321', ForecastStartTimestep='00', ForecastType = 'short_range', ForecastMember='1', TimeStep = '001'):\n",
    "  BaseName = 'https://nomads.ncep.noaa.gov/pub/data/nccf/com/nwm/prod/nwm.'\n",
    "\n",
    "  # The Different forecast types have slightly different urls. The following 'if elif' statements help build valid urls based on the forecast type given to the function.\n",
    "  if (ForecastType == 'short_range'):\n",
    "    return BaseName + ForecastStartDate + '/short_range/nwm.t' + ForecastStartTimestep +'z.short_range.channel_rt.f' + TimeStep + '.conus.nc'\n",
    "  elif (ForecastType == 'medium_range'): \n",
    "    return BaseName + ForecastStartDate + '/medium_range_mem' + ForecastMember + '/nwm.t' + ForecastStartTimestep +'z.medium_range.channel_rt_' + ForecastMember + '.f' + TimeStep + '.conus.nc'\n",
    "  elif (ForecastType == 'long_range'):\n",
    "    return BaseName + ForecastStartDate + '/long_range_mem' + ForecastMember + '/nwm.t' + ForecastStartTimestep +'z.long_range.channel_rt_' + ForecastMember + '.f' + TimeStep + '.conus.nc'\n",
    "  else:\n",
    "    return 'error'\n",
    "\n",
    "\n",
    "# This function downloads the given forecast file from NOAA using its url. You can see that we use os to communicate with the operating system and requests to 'get' what is at that url.\n",
    "def GetForecastFile(Url = 'https://nomads.ncep.noaa.gov/pub/data/nccf/com/nwm/prod/nwm.20210321/short_range/nwm.t00z.short_range.channel_rt.f001.conus.nc'):\n",
    "  FileName = os.path.basename(Url)\n",
    "  if os.path.exists(FileName):\n",
    "    os.remove(FileName)\n",
    "  r = requests.get(Url, allow_redirects=True)\n",
    "  open(FileName, 'wb').write(r.content)\n",
    "  return FileName\n",
    "\n",
    "\n",
    "# This last function gets a time series of data for a stream segment by looping through and grabbing the forecast files at every time interval until the full forecast has been retrieved and added to the series.\n",
    "# For example, a short range forecast is 18 hours long and has 18 1-hr intervals that need to be retrieved to build the full time series.\n",
    "# This function only grabs every third forecast for medium range forecasts. That means that the range is 80 for member 1 and 68 for other members. That results in 240-hr (10-day) and 204-hr (8.5 hour) forecasts respectively.\n",
    "# Long range forecasts have 6-hr intervals which extend out to 30 days (720 hours). That means that the range is 120 (720/6).\n",
    "def GetSeries(StreamID = 23275226, ForecastStartDate = '20210321', ForecastStartTimestep='00', ForecastType = 'short_range', ForecastMember='1'):\n",
    "  TimeSteps = []\n",
    "  TimeSteps.clear()\n",
    "  Series = []\n",
    "  Series.clear()\n",
    "  if (ForecastType=='short_range'):\n",
    "    for i in range(18):\n",
    "      TimeSteps.append(\"%03d\" % (i+1))\n",
    "  elif (ForecastType=='medium_range' and ForecastMember=='1'):\n",
    "    for i in range(80):\n",
    "      TimeSteps.append(\"%03d\" % ((i+1)*3))\n",
    "  elif (ForecastType=='medium_range' and ForecastMember!='1'):\n",
    "    for i in range (68):\n",
    "      TimeSteps.append(\"%03d\" % ((i+1)*3))\n",
    "  elif (ForecastType=='long_range'):\n",
    "    for i in range(120):\n",
    "      TimeSteps.append(\"%03d\" % ((i+1)*6))\n",
    "  else: \n",
    "    return 'Error building time steps'\n",
    "  \n",
    "  for ts in TimeSteps:\n",
    "    MyUrl = GetForecastFileName(ForecastStartDate,ForecastStartTimestep, ForecastType,ForecastMember,ts)\n",
    "    FileName = GetForecastFile(MyUrl)\n",
    "    if(FileName != 'error'):\n",
    "      data = xr.open_dataset(FileName)\n",
    "      Q = float(data.sel(feature_id=StreamID).streamflow.values)\n",
    "      Series.append(Q)\n",
    "    else:\n",
    "      print('Error getting forecast files.')\n",
    "    \n",
    "  return Series"
   ]
  },
  {
   "cell_type": "markdown",
   "metadata": {},
   "source": [
    "<figure><img src=\"images/matplotlib.png\" alt=\"null\" style=\"width: 400px;\"/></figure>\n",
    "The next few cells use the previously defined functions to get a forecast for a river and display it on a matplotlib plot. Feel free to try changing the variables in the '# Variables' cell. If you choose not to make any changes, you will end up with a plot of today's short range forecast for the Colorado River near Glenwood Springs, Colorado. Depending on the forecast that you've chosen these next few cells could take a while to run.\n",
    "<br><br>\n",
    "The goal here is to create a plot similar to the one shown below:\n",
    "<figure><img src=\"images/exampleplot.png\" alt=\"Plot of a Short Range Streamflow Forecast\" style=\"width: 550px;\"/></figure>\n",
    "That plot comes from using NOAA's interactive NWM map (linked below in item #4). We can create similar plots in Python and customize them to our liking.<br>\n",
    "<br>\n",
    "\n",
    "Items to note when manipulating variables: \n",
    "1. The medium range forecast has 7 members. But Member 1 is 10 days long while members 2-7 are 8.5 days long.\n",
    "2. The units of the data are cubic meters per second (not cfs).\n",
    "3. Dates need to be specified in yyyymmdd format and only today or yesterday may be used.\n",
    "4. If you would like to obtain a different StreamID/ReachID, you can do so by clicking on a river of interest at <a href=\"https://water.noaa.gov/map\" target=\"_blank\">https://water.noaa.gov/map</a>. This interactive map shows all of the reaches in the NWM and allows you to see their attributes and forecasts.\n",
    "5. All variables should be formatted as strings except for the StreamID which should be an integer.\n",
    "6. Long range forecasts are 4 member ensembles."
   ]
  },
  {
   "cell_type": "markdown",
   "metadata": {},
   "source": [
    "<em><h4>Variables</h4></em>"
   ]
  },
  {
   "cell_type": "code",
   "execution_count": null,
   "metadata": {},
   "outputs": [],
   "source": [
    "# This gets todays date, stores it in yyyymmdd format and assigns it to the variable 'today' which we can use in the next cell\n",
    "today = date.today()\n",
    "print(today)\n",
    "today = str(today)\n",
    "today = today.replace(\"-\", \"\")\n",
    "print(today)"
   ]
  },
  {
   "cell_type": "code",
   "execution_count": null,
   "metadata": {},
   "outputs": [],
   "source": [
    "# Variables\n",
    "# The unique identifier corresponding to a river segment:\n",
    "StreamID = 3175546\n",
    "\n",
    "# Date in YYYYMMDD format. Can only be today or yesterday. Here the variable 'today' is called from the previous cell.\n",
    "# If you do decide to change this variable be sure to put your date in as a string by placing it inside of quotes like this: 'YYYYMMDD' \n",
    "ForecastStartDate = today  \n",
    "\n",
    "# Timestep forecast was issued, 00 = midnight CST (Central Standard Time), Cannot exceed 24, \n",
    "# Cannot be in the future (Example: Today two hours from now)\n",
    "# For short_range can be 00, 01, 02, 03, etc.\n",
    "# For medium_range or long_range can be 00, 06, 12, etc.:\n",
    "ForecastStartTimestep = '00'       \n",
    "\n",
    "# Options are 'short_range', 'medium_range', and 'long_range':\n",
    "ForecastType = 'short_range'       \n",
    "\n",
    "# Should be 1 for short_range. If using medium_range or 'long_range' then specify the ensemble member \n",
    "# (1-4 for long_range or 1-7 for medium_range):\n",
    "ForecastMember = '1'                \n",
    "\n",
    "# Now we use the GetSeries function from above, and provide it with the appropriate arguments using the variables that were just created.\n",
    "Series = GetSeries(StreamID, ForecastStartDate, ForecastStartTimestep, ForecastType, ForecastMember)\n",
    "print(Series)\n",
    "\n",
    "# If this cell gives an error, double check that you've passed valid variables and run it again."
   ]
  },
  {
   "cell_type": "markdown",
   "metadata": {},
   "source": [
    "<em><h4>Plotting</h4></em>"
   ]
  },
  {
   "cell_type": "code",
   "execution_count": null,
   "metadata": {},
   "outputs": [],
   "source": [
    "# Now lets actually plot the series. \n",
    "plt.rc('font', size=14)\n",
    "fig, ax = plt.subplots(figsize=(10, 6))\n",
    "ax.plot(Series, color='tab:blue', label='Streamflow')\n",
    "ax.set_xlabel('Time')\n",
    "ax.set_ylabel('Flowrate (cms)')\n",
    "ax.set_title(ForecastType + ' for Stream ID ' + str(StreamID) + ' for Member ' + str(ForecastMember))\n",
    "ax.grid(True)\n",
    "# Experiment with changing the color of the series, the size of the plot, or something else and run this cell again."
   ]
  },
  {
   "cell_type": "markdown",
   "metadata": {},
   "source": [
    "The next cell erases the forecast files that were downloaded previously. You can see the files on the left hand side of your screen by clicking on the folder icon prior to running the cell. The cell is also written so that it will print out the name of each file that it removes/deletes."
   ]
  },
  {
   "cell_type": "code",
   "execution_count": null,
   "metadata": {},
   "outputs": [],
   "source": [
    "files = [f for f in os.listdir('.') \n",
    "         if os.path.isfile(f)]\n",
    "\n",
    "for f in files:\n",
    "    # Look at every file and if contains 'nwm' then remove/delete it! \n",
    "    if \"nwm\" in f:\n",
    "        print(f)\n",
    "        os.remove(f)"
   ]
  },
  {
   "cell_type": "markdown",
   "metadata": {},
   "source": [
    "Now lets take a look at a few different rivers and their forecasts. Sometimes looking at forecasts for several nearby rivers might provide a better picture of what is going on in that area. Let's take a look at short range forecasts for 3 rivers near Clarksville, TN. The code in the next cell is similar to what we did above. Take a moment to read through it and make sure that you can follow what is happening."
   ]
  },
  {
   "cell_type": "code",
   "execution_count": null,
   "metadata": {},
   "outputs": [],
   "source": [
    "# Stream/Reach IDs\n",
    "cumberland_river_id = 11881284\n",
    "red_river_id = 10169834\n",
    "little_river_id = 11879984\n",
    "\n",
    "# Obtaining time series data\n",
    "cumberland_series = GetSeries(cumberland_river_id, today, '00', 'short_range', '1')\n",
    "red_series = GetSeries(red_river_id, today, '00', 'short_range', '1')\n",
    "little_series = GetSeries(little_river_id, today, '00', 'short_range', '1')\n",
    "\n",
    "# Cumberland River Plot\n",
    "plt.rc('font', size=10)\n",
    "fig, ax = plt.subplots(figsize=(8, 8))\n",
    "ax.plot(cumberland_series, color='tab:red', label='Streamflow')\n",
    "ax.set_xlabel('Time')\n",
    "ax.set_ylabel('Flowrate (cms)')\n",
    "ax.set_title('short_range' + ' for Stream ID ' + str(cumberland_river_id))\n",
    "ax.grid(True)\n",
    "\n",
    "# Red River Plot\n",
    "plt.rc('font', size=10)\n",
    "fig, ax = plt.subplots(figsize=(8, 8))\n",
    "ax.plot(red_series, color='tab:blue', label='Streamflow')\n",
    "ax.set_xlabel('Time')\n",
    "ax.set_ylabel('Flowrate (cms)')\n",
    "ax.set_title('short_range' + ' for Stream ID ' + str(red_river_id))\n",
    "ax.grid(True)\n",
    "\n",
    "# Little River Plot\n",
    "plt.rc('font', size=10)\n",
    "fig, ax = plt.subplots(figsize=(8, 8))\n",
    "ax.plot(little_series, color='tab:green', label='Streamflow')\n",
    "ax.set_xlabel('Time')\n",
    "ax.set_ylabel('Flowrate (cms)')\n",
    "ax.set_title('short_range' + ' for Stream ID ' + str(little_river_id))\n",
    "ax.grid(True)"
   ]
  },
  {
   "cell_type": "markdown",
   "metadata": {},
   "source": [
    "That's pretty cool. However, it might be better to see what these forecasts look like when they are plotted together on one plot. Let's try that next. "
   ]
  },
  {
   "cell_type": "code",
   "execution_count": null,
   "metadata": {},
   "outputs": [],
   "source": [
    "# Plot all three rivers on the same plot\n",
    "plt.rc('font', size=14)\n",
    "fig, ax = plt.subplots(figsize=(8, 8))\n",
    "ax.plot(little_series, color='tab:green', label='Streamflow')\n",
    "ax.plot(cumberland_series, color='tab:blue', label='Streamflow')\n",
    "ax.plot(red_series, color='tab:red', label='Streamflow')\n",
    "ax.set_xlabel('Time')\n",
    "ax.set_ylabel('Flowrate (cms)')\n",
    "ax.set_title('The Cumberland, Red, and Little Rivers' + ' Short Range forecasts')\n",
    "plt.legend([\"Little River\", \"Cumberland River\", \"Red River\"])\n",
    "ax.grid(True)"
   ]
  },
  {
   "cell_type": "markdown",
   "metadata": {},
   "source": [
    "Because the Red River and the Little River have relatively small volumes compared to the much larger Cumberland River, that plot isn't particularly useful. Let's try something else. We can plot all three forecasts on different y axes, but still on the same plot. That will allow us to compare the shapes of the forecasts and maybe learn more about what is going on in the area."
   ]
  },
  {
   "cell_type": "code",
   "execution_count": null,
   "metadata": {},
   "outputs": [],
   "source": [
    "plt.rc('font', size=12)\n",
    "fig, ax = plt.subplots(figsize=(9, 9))\n",
    "\n",
    "# Create two twin axes for the Little River and the Red River\n",
    "twin1 = ax.twinx()\n",
    "twin2 = ax.twinx()\n",
    "\n",
    "# Plot each series and make them each a different color.\n",
    "ax.plot(cumberland_series, \"g-\")\n",
    "twin1.plot(little_series, \"b-\")\n",
    "twin2.plot(red_series, \"r-\")\n",
    "\n",
    "# Label the axis and offset the labels for the Little River and the Red River\n",
    "ax.set_xlabel('Time')\n",
    "ax.set_ylabel('Flowrate (cms) - Cumberland River')\n",
    "twin1.set_ylabel(\"Flowrate (cms) - Little River\", labelpad=10)\n",
    "twin2.set_ylabel(\"Flowrate (cms) - Red River\", labelpad=60)\n",
    "\n",
    "# Set axis labels to match the colors used for each river.\n",
    "ax.yaxis.label.set_color(\"blue\")\n",
    "twin1.yaxis.label.set_color(\"green\")\n",
    "twin2.yaxis.label.set_color(\"red\")\n",
    "\n",
    "# Set y axes to match the colors used for each river.\n",
    "ax.tick_params(axis='y', colors=\"blue\")\n",
    "twin1.tick_params(axis='y', colors=\"green\")\n",
    "twin2.tick_params(axis='y', colors=\"red\")\n",
    "\n",
    "# Give the plot a title\n",
    "ax.set_title('Cumberland, Red, and Little Rivers' + ' Short Range Forecasts')\n",
    "\n",
    "ax.grid(True)"
   ]
  },
  {
   "cell_type": "markdown",
   "metadata": {},
   "source": [
    "That plot looks a lot better! Run the next cell to erase any remaining downloaded forecasts!"
   ]
  },
  {
   "cell_type": "code",
   "execution_count": null,
   "metadata": {},
   "outputs": [],
   "source": [
    "files = [f for f in os.listdir('.') \n",
    "         if os.path.isfile(f)]\n",
    "\n",
    "for f in files:\n",
    "    # Look at every file and if contains 'nwm' then remove/delete it! \n",
    "    if \"nwm\" in f:\n",
    "        print(f)\n",
    "        os.remove(f)"
   ]
  },
  {
   "cell_type": "markdown",
   "metadata": {},
   "source": [
    "<em><h4>Exercises</h4></em>"
   ]
  },
  {
   "cell_type": "markdown",
   "metadata": {},
   "source": [
    "The last part of this notebook asks you to try a few things for yourself. Do your best to complete the 4 exercises below or answer the given questions by using what you've learned here. Feel free to add new cells to run any code that you might need to answer a question or complete a task. It may also be a good idea to run the previous cell after each exercise to delete excess files so that your Jupyter notebook's file browser doesn't fill up. \n",
    "1. Create a plot of today's medium range forecast for the Mississippi River anywhere along the border between Missouri and Tennessee. HINT: You'll first need to get a reach id, then create a time series, and then plot the series.\n",
    "\n",
    "2. What is the largest flow expected on the Missouri River through Kansas City in the next ten days? Try to do this two different ways. You should be able to do it by interacting with the NWM map (linked to previously) and by creating and printing a time series for the forecast of appropriate length. Do the two results match? Should they? Why do they or don't they?\n",
    "\n",
    "3. Try plotting a short range time series for three consecutive reaches of the same river (try to pick a major river). You can chose whether or not to plot them on a single plot or three separate plots. How closely do the three forecasts match? Is there any recognizable trend from one to another? Try thinking about which reach is furthest upstream and which is furthest downstream. How might that affect things?\n",
    "\n",
    "4. Pick a single reach and plot its short and medium range forecasts together. How closely do the forecasts match over their shared time interval? Knowing what you've learned about the National Water Model, why might they be different? "
   ]
  },
  {
   "cell_type": "markdown",
   "metadata": {},
   "source": [
    "Thank you for using this resource! We hope that it has helped you understand the National Water Model a bit better and see how Python can be used to access and visualize its forecasts."
   ]
  }
 ],
 "metadata": {
  "kernelspec": {
   "display_name": "Python 3",
   "language": "python",
   "name": "python3"
  },
  "language_info": {
   "codemirror_mode": {
    "name": "ipython",
    "version": 3
   },
   "file_extension": ".py",
   "mimetype": "text/x-python",
   "name": "python",
   "nbconvert_exporter": "python",
   "pygments_lexer": "ipython3",
   "version": "3.7.8"
  }
 },
 "nbformat": 4,
 "nbformat_minor": 4
}
